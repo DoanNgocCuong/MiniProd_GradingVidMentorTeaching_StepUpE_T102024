{
 "cells": [
  {
   "cell_type": "markdown",
   "metadata": {},
   "source": [
    "Sau khi chạy code này xong thì tôi đã có video_database.db bạn ạ\n",
    "\n",
    "Cơ mà tôi mới update lại \n",
    "\n",
    "```\n",
    "\n",
    "curl --location 'http://localhost:25034/analyze' \\\n",
    "\n",
    "--header 'Content-Type: application/json' \\\n",
    "\n",
    "--data '{\"transcription\": \"[00:04:15] Mentee: Oh, good afternoon.\\n[00:04:32] Mentor: Hello.\\n[00:04:35] Mentor: Good afternoon.\"}'\n",
    "\n",
    "```\n",
    "\n",
    "=> \n",
    "\n",
    "Dẫn đến kết quả critierial thay đổi \n",
    "\n",
    "Mặt khác: tôi ko muốn chạy lại code từ đầu "
   ]
  },
  {
   "cell_type": "code",
   "execution_count": null,
   "metadata": {},
   "outputs": [],
   "source": []
  }
 ],
 "metadata": {
  "language_info": {
   "name": "python"
  }
 },
 "nbformat": 4,
 "nbformat_minor": 2
}
