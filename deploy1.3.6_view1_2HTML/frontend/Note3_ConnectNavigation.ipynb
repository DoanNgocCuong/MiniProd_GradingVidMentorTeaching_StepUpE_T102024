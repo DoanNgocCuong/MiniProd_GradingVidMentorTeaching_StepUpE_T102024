{
 "cells": [
  {
   "cell_type": "markdown",
   "metadata": {},
   "source": [
    "# 1. @index.html connect cái này với cái @index.html \n",
    "bằng navigate other page  - vẫn html, css, javascripts. \n",
    "\n",
    "@script.js @script.js "
   ]
  },
  {
   "cell_type": "code",
   "execution_count": null,
   "metadata": {},
   "outputs": [],
   "source": []
  }
 ],
 "metadata": {
  "language_info": {
   "name": "python"
  }
 },
 "nbformat": 4,
 "nbformat_minor": 2
}
