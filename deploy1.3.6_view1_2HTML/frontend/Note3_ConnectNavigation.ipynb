{
 "cells": [
  {
   "cell_type": "markdown",
   "metadata": {},
   "source": [
    "# 1. @index.html connect cái này với cái @index.html \n",
    "bằng navigate other page  - vẫn html, css, javascripts. \n",
    "\n",
    "@script.js @script.js "
   ]
  },
  {
   "cell_type": "markdown",
   "metadata": {},
   "source": [
    "Lỗi lúc đầu ấn vào video name ở view 2 =-> quay lại được trang view 1 với video đó \n",
    "Sau lại bug: sửa gần 1h đồng hồ \n",
    "\n",
    "Sử dụng relative paths thay vì absolute URLs:\n",
    "Và đã fix được bằng dòng: \n",
    "```bash\n",
    "// Thay vì\n",
    "window.location.href = `http://localhost:25035/index.html?video=${encodeURIComponent(videoUrl)}`;\n",
    "\n",
    "// Nên dùng\n",
    "window.location.href = `../index.html?video=${encodeURIComponent(videoUrl)}`;\n",
    "```"
   ]
  },
  {
   "cell_type": "code",
   "execution_count": null,
   "metadata": {},
   "outputs": [],
   "source": []
  }
 ],
 "metadata": {
  "language_info": {
   "name": "python"
  }
 },
 "nbformat": 4,
 "nbformat_minor": 2
}
