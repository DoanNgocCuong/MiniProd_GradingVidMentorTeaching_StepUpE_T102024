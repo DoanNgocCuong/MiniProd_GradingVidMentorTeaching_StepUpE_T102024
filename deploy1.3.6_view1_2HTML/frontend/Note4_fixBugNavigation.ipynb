{
 "cells": [
  {
   "cell_type": "markdown",
   "metadata": {},
   "source": [
    "### Cách đơn giản để **Navigation (Điều hướng)** trong ứng dụng web:\n",
    "\n",
    "Để thực hiện điều hướng (navigation) trong ứng dụng web hoặc trang web, bạn có thể sử dụng các cách sau:\n",
    "\n",
    "### 1. **HTML `<a>` Tag**\n",
    "- **Sử dụng thẻ `<a>`** để tạo liên kết đến các trang khác.\n",
    "  ```html\n",
    "  <a href=\"/trang-chu\">Trang chủ</a>\n",
    "  ```\n",
    "- Thao tác này sẽ chuyển hướng người dùng đến URL bạn đã chỉ định.\n",
    "\n",
    "### 2. **JavaScript `window.location`**\n",
    "- Sử dụng JavaScript để điều hướng người dùng đến trang khác.\n",
    "  ```javascript\n",
    "  window.location.href = \"https://example.com\";\n",
    "  ```\n",
    "- Dùng cách này nếu bạn muốn điều hướng dựa trên sự kiện (như nhấn nút).\n",
    "\n",
    "### 3. **React Router (dành cho ứng dụng React)**\n",
    "- Sử dụng `react-router-dom` để điều hướng trong ứng dụng React.\n",
    "  ```jsx\n",
    "  import { Link } from 'react-router-dom';\n",
    "\n",
    "  <Link to=\"/trang-chu\">Trang chủ</Link>\n",
    "  ```\n",
    "- Hoặc dùng `useNavigate` cho điều hướng động.\n",
    "  ```jsx\n",
    "  import { useNavigate } from 'react-router-dom';\n",
    "\n",
    "  const navigate = useNavigate();\n",
    "  navigate('/trang-chu');\n",
    "  ```\n",
    "\n",
    "### 4. **Sử dụng Anchor Scroll (Điều hướng đến phần tử trong trang)**\n",
    "- Điều hướng đến một phần cụ thể trong cùng một trang.\n",
    "  ```html\n",
    "  <a href=\"#section1\">Đi đến phần 1</a>\n",
    "  <div id=\"section1\">Đây là phần 1</div>\n",
    "  ```\n",
    "\n",
    "### 5. **Button với JavaScript**\n",
    "- Tạo nút điều hướng bằng cách sử dụng JavaScript.\n",
    "  ```html\n",
    "  <button onclick=\"window.location.href='/trang-chu'\">Trang chủ</button>\n",
    "  ```\n",
    "\n",
    "### 6. **Single Page Application (SPA) Frameworks**\n",
    "- Các framework như **Vue.js, Angular, React** thường có hệ thống routing riêng giúp điều hướng mà không cần tải lại trang.\n",
    "\n",
    "Tùy vào công nghệ bạn đang sử dụng, bạn có thể chọn cách phù hợp để điều hướng một cách hiệu quả."
   ]
  },
  {
   "cell_type": "markdown",
   "metadata": {},
   "source": []
  }
 ],
 "metadata": {
  "language_info": {
   "name": "python"
  }
 },
 "nbformat": 4,
 "nbformat_minor": 2
}
