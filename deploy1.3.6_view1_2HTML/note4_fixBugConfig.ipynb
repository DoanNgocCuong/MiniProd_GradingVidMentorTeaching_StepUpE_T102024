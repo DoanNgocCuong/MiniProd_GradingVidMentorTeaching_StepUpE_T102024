{
 "cells": [
  {
   "cell_type": "markdown",
   "metadata": {},
   "source": [
    "1. script => moddel\n",
    "```\n",
    "\n",
    "<!-- Add type=\"module\" to your script tags -->\n",
    "<script type=\"module\" src=\"script.js\"></script>\n",
    "```\n",
    "\n",
    "2. Đưa const config = getConfig(ra ngoài file script) vào file script.js\n",
    "```js\n",
    "import { getConfig } from './config.js';\n",
    "\n",
    "// Initialize config at the top level\n",
    "const config = getConfig();\n",
    "\n",
    "document.addEventListener('DOMContentLoaded', () => {\n",
    "    // ... rest of the code\n",
    "});\n",
    "```\n"
   ]
  },
  {
   "cell_type": "code",
   "execution_count": null,
   "metadata": {},
   "outputs": [],
   "source": []
  },
  {
   "cell_type": "markdown",
   "metadata": {},
   "source": [
    "<!-- Add type=\"module\" to your script tags -->\n",
    "<script type=\"module\" src=\"script.js\"></script>"
   ]
  }
 ],
 "metadata": {
  "language_info": {
   "name": "python"
  }
 },
 "nbformat": 4,
 "nbformat_minor": 2
}
