{
 "cells": [
  {
   "cell_type": "markdown",
   "metadata": {},
   "source": [
    "### 1.2.1_AddFrontend_GoLive.ipynb\n",
    "- Đi cố gắng phát triển lên 1 bản KO CẦN BẤM VÀO GO LIVE. Sau chợt nhận ra là bấm vào GO LIVE NÓ RA 1 TRANG HOÀN TOÀN MỚI. \n",
    "- GO LIVE: http://127.0.0.1:5500/frontend/index.html\n",
    "- Còn Backend cổng 3001. http://localhost:3001/api/openai\n",
    "\n",
    "=> BÀI TOÁN GIẢI XONG RỒI MÀ NHỈ"
   ]
  },
  {
   "cell_type": "markdown",
   "metadata": {},
   "source": [
    "Claude 3.5 Sonnet (Latest): \n",
    "\n",
    "- The port 5500 is the default port used by the \"Live Server\" extension in Visual Studio Code when you click \"Go Live\".\n",
    "\n",
    "- This is different from the backend port (3001) that we see being used in the fetch call in frontend\\app.js.\n",
    "\n",
    "- The address http://127.0.0.1:5500 is created because:\n",
    "\n",
    "    - 127.0.0.1 is the localhost IP address\n",
    "    - 5500 is the default port that Live Server uses to serve static frontend files\n",
    "    - If port 5500 is already in use, Live Server will automatically increment to 5501, 5502, etc.\n",
    "- From the HowRun.md file, we can see the instruction to run the frontend using \"Go Live\", which confirms this is the intended setup using Live Server's default port 5500."
   ]
  },
  {
   "cell_type": "markdown",
   "metadata": {},
   "source": [
    "### BÀI TOÁN GIẢI XONG RỒI: \n",
    "- app.js trong frontend call tới api endpoint của backend và hiển thị ra màn hình => ko lộ API Key. \n",
    "- Khi đó GO LIVE thì nó ra trang web mặc định: ? thì có thay đổi được địa chỉ không? "
   ]
  },
  {
   "cell_type": "markdown",
   "metadata": {},
   "source": [
    "### Đóng gói DOCKER???"
   ]
  }
 ],
 "metadata": {
  "language_info": {
   "name": "python"
  }
 },
 "nbformat": 4,
 "nbformat_minor": 2
}
