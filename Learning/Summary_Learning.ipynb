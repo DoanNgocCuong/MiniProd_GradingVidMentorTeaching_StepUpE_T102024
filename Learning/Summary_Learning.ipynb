{
 "cells": [
  {
   "cell_type": "markdown",
   "metadata": {},
   "source": [
    "## 1. 1 SERVER - 1 PORT hay 2 SERVER - 2 PORT"
   ]
  },
  {
   "cell_type": "markdown",
   "metadata": {},
   "source": [
    "\n",
    "```\n",
    "REFACTOR THIS CODE. \n",
    "BÀI NÀY BACKEND SẼ ĐÓNG THÀNH 1 API KEY, FRONTEND VÀ BACKEND NÊN CHẠY CÙNG 1 SERVER HAY 2 SERVER (3000, 3001) ???\n",
    "HỎI THỰC TẾ TỪ TEAM TECHNICAL - CODEMELY\n",
    "GIẤU OPEN API KEY ở .env của Backend - backend đóng thành 1 API EndPoint-Frontend call\n",
    "Đoàn Ngọc Cường - AI\n",
    "OP\n",
    " — Today at 10:14 AM\n",
    "với cách làm như này, em muốn hỏi là các sếp đang làm 2 server hay 1 server ạ.\n",
    "---------\n",
    "Sếp @Huy - Founder @Thái Nguyễn - Founder @Tuân Đỗ  - Tech @Technical \n",
    "```\n",
    "\n"
   ]
  },
  {
   "cell_type": "markdown",
   "metadata": {},
   "source": [
    "Dưới đây là bảng đã bổ sung thêm thông tin về **Kiến trúc MVC**:\n",
    "\n",
    "| **Tiêu chí**                          | **Frontend và Backend cùng chạy trên một server**                                      | **Frontend tách biệt với Backend**                                                     |\n",
    "|---------------------------------------|----------------------------------------------------------------------------------------|-----------------------------------------------------------------------------------------|\n",
    "| **Mô tả**                             | Frontend và Backend cùng chạy trên một server và truy cập qua cùng địa chỉ IP.         | Frontend và Backend chạy trên các server hoặc port khác nhau, thường có CORS hoặc proxy xử lý. |\n",
    "| **Cách triển khai**                   | - Backend và Frontend chạy trên cùng server ứng dụng (Node.js/Express, Flask, Django).<br> - Có thể dùng web server tĩnh (Nginx, Apache) phục vụ Frontend và reverse proxy chuyển yêu cầu API tới Backend. | - Frontend có thể được phục vụ từ CDN hoặc web server riêng (Nginx, Apache).<br> - Backend chạy trên server riêng chỉ xử lý API và được bảo vệ bằng cấu hình CORS. |\n",
    "| **Ưu điểm**                           | - Cấu hình đơn giản, không gặp vấn đề về CORS do cùng một origin.<br> - Phù hợp với các ứng dụng nhỏ hoặc thử nghiệm, không yêu cầu bảo mật cao. | - Tách biệt giao diện và xử lý logic, dễ mở rộng và bảo trì hơn.<br> - Tốc độ tải trang nhanh hơn nếu dùng CDN cho Frontend. |\n",
    "| **Nhược điểm**                        | - Có thể gây quá tải nếu lượng truy cập lớn vì Frontend và Backend chia sẻ tài nguyên. | - Cần xử lý **CORS** khi khác origin:<br> - **Cấu hình CORS** trên Backend với `Access-Control-Allow-Origin`.<br> - **Sử dụng Proxy**: Dùng reverse proxy (Nginx) chuyển tiếp yêu cầu từ Frontend đến Backend【33†source】【34†source】【36†source】. |\n",
    "| **Ví dụ địa chỉ**                     | - Frontend: `http://103.253.20.13:25003/` <br> - Backend API: `http://103.253.20.13:25003/api/` | - Frontend: `http://103.253.20.13:8080/` <br> - Backend API: `http://103.253.20.13:25003/` |\n",
    "| **Độ phức tạp và bảo trì**            | Dễ bảo trì do tất cả trên một server. Phù hợp với ứng dụng nhỏ và giai đoạn phát triển ban đầu. | Phức tạp hơn nhưng linh hoạt hơn cho các dự án lớn, cần mở rộng và bảo mật API.          |\n",
    "| **Kiến trúc thường dùng**             | **Monolithic Architecture** hoặc **MVC Architecture**:<br> - Tất cả logic và giao diện trên cùng server. MVC giúp phân chia cấu trúc rõ ràng hơn, với `Model`, `View`, và `Controller` tách biệt【19†source】. | **Microservices hoặc API Gateway Architecture**: Tách biệt hoàn toàn Frontend và Backend, Frontend dùng CDN và Backend mở rộng qua các API Gateway【33†source】【36†source】. |\n",
    "\n"
   ]
  },
  {
   "cell_type": "markdown",
   "metadata": {},
   "source": []
  }
 ],
 "metadata": {
  "language_info": {
   "name": "python"
  }
 },
 "nbformat": 4,
 "nbformat_minor": 2
}
