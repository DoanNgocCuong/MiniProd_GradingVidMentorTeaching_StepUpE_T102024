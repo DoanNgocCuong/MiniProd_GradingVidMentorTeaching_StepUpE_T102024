{
 "cells": [
  {
   "cell_type": "markdown",
   "metadata": {},
   "source": [
    "# 1. Từ 2 file funct... . js chuyển sang Python \n"
   ]
  },
  {
   "cell_type": "markdown",
   "metadata": {},
   "source": [
    "# 2. Triển khai luồng Detect - Extend - Chấm: \n",
    "- ban đầu AppScripts đang triển là: Detect All - Extend All - Chấm All. \n",
    "- Qua đây mình triển theo kiểu: \n",
    "1. 3 tiêu chí đầu => Detect - Extend - Chấm \n",
    "2. 3 tiêu chí sau. ...\n"
   ]
  },
  {
   "cell_type": "markdown",
   "metadata": {},
   "source": [
    "# 3. Sau thấy hướng này set up mọi cái lâu: + với việc là 3 tiêu chí Pronun, Vocab, Gammar mà kiểu detect ra 5 xong rồi so sánh 5 cái để lấy cái tốt nhất thấy hơi căng. => Chuyển qua hướng đơn giản hơn. \n",
    "\n",
    "\n",
    "Chú ý, ta có 3 hướng: \n",
    "\n",
    "- Hướng 1: Only Prompt \n",
    "- Hướng 2: với việc là 3 tiêu chí Pronun, Vocab, Gammar mà kiểu detect ra 5 xong rồi so sánh 5 cái để lấy cái tốt nhất thấy hơi căng. \n",
    "- Hướng 3: 5 Prompt (mỗi promp vừa Detect và Chấm luôn). \n",
    "Sau đó gom chung về để ra được format CUỐI. \n"
   ]
  }
 ],
 "metadata": {
  "language_info": {
   "name": "python"
  }
 },
 "nbformat": 4,
 "nbformat_minor": 2
}
