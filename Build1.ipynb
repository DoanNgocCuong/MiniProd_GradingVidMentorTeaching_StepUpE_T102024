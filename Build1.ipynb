{
 "cells": [
  {
   "cell_type": "markdown",
   "metadata": {},
   "source": [
    "### MiniProduct_GradingMentorVideoTeaching_StepUpE_T102024\n",
    "\n",
    "1. End to end project triển khai trên App Scripts: https://github.com/DoanNgocCuong/BasicTasks_PreProcessingTools\n",
    "\n",
    "2. Triển khai dạng web : toàn bộ Prompt bạn xem ở sheet nhé:...\n",
    "\n",
    "3. Về kỹ thuật Prompt chấm được sử dụng: \n",
    "- Detect và Chấm luôn: \n",
    "- Detect -> Expand Transcription -> ***Chấm chỉ trả ra điểm và reason chung chung*** (dựa theo 3 tiêu chí 1, 2, 3)\n",
    "- Detect -> Expand Transcription -> ***Chấm đưa ra điểm + reason cụ thể với từng tiêu chí*** <Bản chất vẫn như cách đầu, cơ mà nó Make-Sensing hơn với người dùng, người dùng sẽ được giải thích kỹ hơn tại sao lại chấm như vậy>. - ĐÂY LÀ CÁCH TỤI MÌNH RESPONSE CHO BÀI CHẤM ĐIỂM WEB TEST. \n",
    "- Detect -> Expand Transcription -> ***Đưa ra điểm + với từng tiêu chí cụ thể thì điểm bao nhiêu và lý do***. <bản chất cũng y 2 cách trên thôi>\n",
    "\n",
    "**2 cách xử lý với mỗi loại:**\n",
    "\n",
    "- Cách 1: ***CHAINS/TREES/GRAPHS OF THOUGHT METHOD PROMPTING***: Ta xài prompt tổng này ạ => Ra output cuối như a mong muốn luôn \n",
    "<kết quả có thể ko quá tốt do JSON dài, ... Cơ mà GPT4o -mini giờ cũng khá mạnh, nên em nghĩ xài GPT4o có thể là work ngon luôn>\n",
    "\n",
    "- Cách 2: ***CHAIN OF PROMPT METHOD PROMPTING***: Còn ko thì ae mình phải xử lý theo kiểu: Chain of Prompt  (chuỗi Prompt): xài prompt nhiều lần xong ghép lại. (Chain of Prompt được đánh giá là kết quả ngon hơn)\n"
   ]
  },
  {
   "cell_type": "markdown",
   "metadata": {},
   "source": []
  },
  {
   "cell_type": "markdown",
   "metadata": {},
   "source": []
  }
 ],
 "metadata": {
  "language_info": {
   "name": "python"
  }
 },
 "nbformat": 4,
 "nbformat_minor": 2
}
